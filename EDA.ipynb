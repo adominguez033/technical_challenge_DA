{
 "cells": [
  {
   "cell_type": "code",
   "execution_count": 1,
   "id": "9c00d5e6",
   "metadata": {},
   "outputs": [],
   "source": [
    "import numpy as np\n",
    "\n",
    "import pandas as pd\n",
    "\n",
    "import seaborn as sns\n",
    "\n",
    "import pylab as plt"
   ]
  },
  {
   "cell_type": "code",
   "execution_count": 2,
   "id": "fc1859a0",
   "metadata": {},
   "outputs": [
    {
     "data": {
      "text/html": [
       "<div>\n",
       "<style scoped>\n",
       "    .dataframe tbody tr th:only-of-type {\n",
       "        vertical-align: middle;\n",
       "    }\n",
       "\n",
       "    .dataframe tbody tr th {\n",
       "        vertical-align: top;\n",
       "    }\n",
       "\n",
       "    .dataframe thead th {\n",
       "        text-align: right;\n",
       "    }\n",
       "</style>\n",
       "<table border=\"1\" class=\"dataframe\">\n",
       "  <thead>\n",
       "    <tr style=\"text-align: right;\">\n",
       "      <th></th>\n",
       "      <th>distance</th>\n",
       "      <th>consume</th>\n",
       "      <th>speed</th>\n",
       "      <th>temp_inside</th>\n",
       "      <th>temp_outside</th>\n",
       "      <th>specials</th>\n",
       "      <th>gas_type</th>\n",
       "      <th>AC</th>\n",
       "      <th>rain</th>\n",
       "      <th>sun</th>\n",
       "      <th>refill liters</th>\n",
       "      <th>refill gas</th>\n",
       "    </tr>\n",
       "  </thead>\n",
       "  <tbody>\n",
       "    <tr>\n",
       "      <th>0</th>\n",
       "      <td>28</td>\n",
       "      <td>5</td>\n",
       "      <td>26</td>\n",
       "      <td>21,5</td>\n",
       "      <td>12</td>\n",
       "      <td>NaN</td>\n",
       "      <td>E10</td>\n",
       "      <td>0</td>\n",
       "      <td>0</td>\n",
       "      <td>0</td>\n",
       "      <td>45</td>\n",
       "      <td>E10</td>\n",
       "    </tr>\n",
       "    <tr>\n",
       "      <th>1</th>\n",
       "      <td>12</td>\n",
       "      <td>4,2</td>\n",
       "      <td>30</td>\n",
       "      <td>21,5</td>\n",
       "      <td>13</td>\n",
       "      <td>NaN</td>\n",
       "      <td>E10</td>\n",
       "      <td>0</td>\n",
       "      <td>0</td>\n",
       "      <td>0</td>\n",
       "      <td>NaN</td>\n",
       "      <td>NaN</td>\n",
       "    </tr>\n",
       "    <tr>\n",
       "      <th>2</th>\n",
       "      <td>11,2</td>\n",
       "      <td>5,5</td>\n",
       "      <td>38</td>\n",
       "      <td>21,5</td>\n",
       "      <td>15</td>\n",
       "      <td>NaN</td>\n",
       "      <td>E10</td>\n",
       "      <td>0</td>\n",
       "      <td>0</td>\n",
       "      <td>0</td>\n",
       "      <td>NaN</td>\n",
       "      <td>NaN</td>\n",
       "    </tr>\n",
       "    <tr>\n",
       "      <th>3</th>\n",
       "      <td>12,9</td>\n",
       "      <td>3,9</td>\n",
       "      <td>36</td>\n",
       "      <td>21,5</td>\n",
       "      <td>14</td>\n",
       "      <td>NaN</td>\n",
       "      <td>E10</td>\n",
       "      <td>0</td>\n",
       "      <td>0</td>\n",
       "      <td>0</td>\n",
       "      <td>NaN</td>\n",
       "      <td>NaN</td>\n",
       "    </tr>\n",
       "    <tr>\n",
       "      <th>4</th>\n",
       "      <td>18,5</td>\n",
       "      <td>4,5</td>\n",
       "      <td>46</td>\n",
       "      <td>21,5</td>\n",
       "      <td>15</td>\n",
       "      <td>NaN</td>\n",
       "      <td>E10</td>\n",
       "      <td>0</td>\n",
       "      <td>0</td>\n",
       "      <td>0</td>\n",
       "      <td>NaN</td>\n",
       "      <td>NaN</td>\n",
       "    </tr>\n",
       "  </tbody>\n",
       "</table>\n",
       "</div>"
      ],
      "text/plain": [
       "  distance consume  speed temp_inside  temp_outside specials gas_type  AC  \\\n",
       "0       28       5     26        21,5            12      NaN      E10   0   \n",
       "1       12     4,2     30        21,5            13      NaN      E10   0   \n",
       "2     11,2     5,5     38        21,5            15      NaN      E10   0   \n",
       "3     12,9     3,9     36        21,5            14      NaN      E10   0   \n",
       "4     18,5     4,5     46        21,5            15      NaN      E10   0   \n",
       "\n",
       "   rain  sun refill liters refill gas  \n",
       "0     0    0            45        E10  \n",
       "1     0    0           NaN        NaN  \n",
       "2     0    0           NaN        NaN  \n",
       "3     0    0           NaN        NaN  \n",
       "4     0    0           NaN        NaN  "
      ]
     },
     "execution_count": 2,
     "metadata": {},
     "output_type": "execute_result"
    }
   ],
   "source": [
    "df1=pd.read_csv('data/measurements.csv')\n",
    "df1.head()"
   ]
  },
  {
   "cell_type": "code",
   "execution_count": 3,
   "id": "c825d583",
   "metadata": {},
   "outputs": [
    {
     "data": {
      "text/plain": [
       "(388, 12)"
      ]
     },
     "execution_count": 3,
     "metadata": {},
     "output_type": "execute_result"
    }
   ],
   "source": [
    "df1.shape"
   ]
  },
  {
   "cell_type": "code",
   "execution_count": 4,
   "id": "04a5ddb3",
   "metadata": {},
   "outputs": [
    {
     "name": "stdout",
     "output_type": "stream",
     "text": [
      "<class 'pandas.core.frame.DataFrame'>\n",
      "RangeIndex: 388 entries, 0 to 387\n",
      "Data columns (total 12 columns):\n",
      " #   Column         Non-Null Count  Dtype \n",
      "---  ------         --------------  ----- \n",
      " 0   distance       388 non-null    object\n",
      " 1   consume        388 non-null    object\n",
      " 2   speed          388 non-null    int64 \n",
      " 3   temp_inside    376 non-null    object\n",
      " 4   temp_outside   388 non-null    int64 \n",
      " 5   specials       93 non-null     object\n",
      " 6   gas_type       388 non-null    object\n",
      " 7   AC             388 non-null    int64 \n",
      " 8   rain           388 non-null    int64 \n",
      " 9   sun            388 non-null    int64 \n",
      " 10  refill liters  13 non-null     object\n",
      " 11  refill gas     13 non-null     object\n",
      "dtypes: int64(5), object(7)\n",
      "memory usage: 36.5+ KB\n"
     ]
    }
   ],
   "source": [
    "df1.info()"
   ]
  },
  {
   "cell_type": "code",
   "execution_count": 5,
   "id": "11ec2074",
   "metadata": {},
   "outputs": [
    {
     "data": {
      "text/plain": [
       "array(['28', '12', '11,2', '12,9', '18,5', '8,3', '7,8', '12,3', '4,9',\n",
       "       '11,9', '12,4', '11,8', '24,7', '17,3', '33,4', '25,9', '25,3',\n",
       "       '14,2', '17,9', '18,4', '18,3', '32,6', '19', '12,1', '20', '4,5',\n",
       "       '11,7', '10,2', '5,4', '2', '16', '27,3', '10,6', '11,6', '13,1',\n",
       "       '6,1', '153,5', '2,9', '2,1', '9,8', '6,8', '14', '13,9', '9,7',\n",
       "       '24,8', '34,8', '5,2', '10,5', '13,2', '13', '12,2', '12,5',\n",
       "       '15,7', '6,4', '5,3', '26,2', '18,8', '22,9', '162,7', '16,6',\n",
       "       '15,9', '5,1', '22,4', '31,1', '16,1', '4,2', '17,4', '23,5', '7',\n",
       "       '20,1', '20,8', '1,7', '35,9', '36,9', '16,8', '9,9', '36,6',\n",
       "       '44,9', '21,6', '39,4', '26,6', '53,2', '18,9', '43,5', '16,4',\n",
       "       '21,1', '22,7', '44,4', '35,8', '40,6', '14,1', '58,7', '16,2',\n",
       "       '31,8', '51,6', '38,6', '81,2', '130,3', '67,2', '43,7', '56,1',\n",
       "       '39', '38,5', '28,2', '19,6', '22,2', '13,6', '12,6', '8,7', '7,9',\n",
       "       '2,4', '18,1', '1,3', '13,4', '12,8', '29', '31,4', '27,1', '25,2',\n",
       "       '14,3', '16,9', '9,2', '31,5', '24,9', '17', '7,4', '25,7', '24,5',\n",
       "       '4,1', '15,4', '101,9', '93,9', '32,1', '48,6', '37,2', '28,8',\n",
       "       '6,7', '6,6', '13,3', '12,7', '16,5', '20,6', '16,3', '18,7',\n",
       "       '36,5', '29,9', '10,1', '31,9', '10,8', '19,8', '11,3', '11,5',\n",
       "       '21,4', '32', '41,9', '211', '216,1', '25,5', '22,1', '39,5',\n",
       "       '21,5', '4,8', '100,9', '129,7', '21', '17,2', '6', '20,9', '15,3',\n",
       "       '28,5', '14,5', '16,7', '5,5', '14,7'], dtype=object)"
      ]
     },
     "execution_count": 5,
     "metadata": {},
     "output_type": "execute_result"
    }
   ],
   "source": [
    "df1.distance.unique()"
   ]
  },
  {
   "cell_type": "code",
   "execution_count": 6,
   "id": "710dbdd0",
   "metadata": {},
   "outputs": [],
   "source": [
    "df1['distance'] = df1['distance'].apply(lambda x: x.replace(',', '.')).astype('float')"
   ]
  },
  {
   "cell_type": "code",
   "execution_count": 7,
   "id": "77e4c999",
   "metadata": {},
   "outputs": [
    {
     "data": {
      "text/plain": [
       "array(['5', '4,2', '5,5', '3,9', '4,5', '6,4', '4,4', '5,3', '5,6', '4,6',\n",
       "       '5,9', '5,1', '4,7', '4,9', '5,7', '4,1', '5,8', '4,8', '4,3',\n",
       "       '5,2', '7,4', '6,5', '4', '3,3', '9,9', '6,1', '6,2', '7,9',\n",
       "       '12,2', '5,4', '3,6', '6,9', '8,7', '6,3', '6', '10,8', '8,1',\n",
       "       '7,1', '3,8', '9', '3,7', '11,5', '6,6'], dtype=object)"
      ]
     },
     "execution_count": 7,
     "metadata": {},
     "output_type": "execute_result"
    }
   ],
   "source": [
    "df1.consume.unique()"
   ]
  },
  {
   "cell_type": "code",
   "execution_count": 8,
   "id": "18fc376e",
   "metadata": {},
   "outputs": [],
   "source": [
    "df1['consume'] = df1['consume'].apply(lambda x: x.replace(',', '.')).astype('float')"
   ]
  },
  {
   "cell_type": "code",
   "execution_count": 9,
   "id": "54089344",
   "metadata": {},
   "outputs": [
    {
     "data": {
      "text/plain": [
       "array([26, 30, 38, 36, 46, 50, 43, 40, 42, 59, 58, 24, 32, 39, 37, 62, 57,\n",
       "       21, 28, 29, 35, 51, 23, 55, 44, 25, 63, 61, 82, 52, 18, 41, 20, 56,\n",
       "       45, 22, 60, 33, 34, 71, 75, 66, 27, 49, 14, 80, 53, 47, 73, 69, 85,\n",
       "       67, 54, 31, 48, 16, 88, 65, 90, 87], dtype=int64)"
      ]
     },
     "execution_count": 9,
     "metadata": {},
     "output_type": "execute_result"
    }
   ],
   "source": [
    "df1.speed.unique()"
   ]
  },
  {
   "cell_type": "code",
   "execution_count": 10,
   "id": "8cddc8cc",
   "metadata": {},
   "outputs": [
    {
     "data": {
      "text/plain": [
       "array(['21,5', '22,5', '20', nan, '21', '20,5', '23', '23,5', '25', '24',\n",
       "       '22', '19', '24,5', '25,5'], dtype=object)"
      ]
     },
     "execution_count": 10,
     "metadata": {},
     "output_type": "execute_result"
    }
   ],
   "source": [
    "df1.temp_inside.unique()"
   ]
  },
  {
   "cell_type": "code",
   "execution_count": 11,
   "id": "e8ae36c5",
   "metadata": {},
   "outputs": [],
   "source": [
    "df1.temp_inside.replace(np.nan, '21,5', inplace=True)"
   ]
  },
  {
   "cell_type": "code",
   "execution_count": 12,
   "id": "492163fb",
   "metadata": {},
   "outputs": [],
   "source": [
    "df1['temp_inside'] = df1['temp_inside'].apply(lambda x: x.replace(',', '.')).astype('float')"
   ]
  },
  {
   "cell_type": "code",
   "execution_count": 13,
   "id": "fcab96d5",
   "metadata": {},
   "outputs": [
    {
     "data": {
      "text/plain": [
       "array([12, 13, 15, 14, 10, 11,  6,  4,  9,  0,  5,  3,  8,  1,  2,  7, -3,\n",
       "       17, 18, -5, 16, 19, 21, 20, 25, 23, 27, 24, 26, 22, 30, 31, 28],\n",
       "      dtype=int64)"
      ]
     },
     "execution_count": 13,
     "metadata": {},
     "output_type": "execute_result"
    }
   ],
   "source": [
    "df1.temp_outside.unique()"
   ]
  },
  {
   "cell_type": "code",
   "execution_count": 14,
   "id": "f5c3bdbb",
   "metadata": {},
   "outputs": [
    {
     "data": {
      "text/plain": [
       "array([nan, 'AC rain', 'AC', 'rain', 'snow', 'AC snow',\n",
       "       'half rain half sun', 'sun', 'AC sun', 'sun ac', 'ac', 'AC Sun',\n",
       "       'ac rain'], dtype=object)"
      ]
     },
     "execution_count": 14,
     "metadata": {},
     "output_type": "execute_result"
    }
   ],
   "source": [
    "df1.specials.unique()"
   ]
  },
  {
   "cell_type": "code",
   "execution_count": 15,
   "id": "ed371e82",
   "metadata": {},
   "outputs": [],
   "source": [
    "df1.drop([334,181,191], axis=0, inplace=True)   #Se eliminan las filas donde no coincide la info de specials con otras."
   ]
  },
  {
   "cell_type": "code",
   "execution_count": 16,
   "id": "8ff82f4a",
   "metadata": {},
   "outputs": [],
   "source": [
    "df1.specials.replace(np.nan,0, inplace=True)\n",
    "df1.specials.replace(['AC rain', 'AC', 'rain', 'snow', 'AC snow',\n",
    "       'half rain half sun', 'sun', 'AC sun', 'sun ac', 'ac', 'AC Sun',\n",
    "       'ac rain'], \n",
    "                [0, 0, 0, 1, 1,\n",
    "       0, 0, 0, 0, 0, 0,\n",
    "       0], inplace=True)\n",
    "\n",
    "df1.rename(columns = {'specials':'snow'}, inplace = True)"
   ]
  },
  {
   "cell_type": "code",
   "execution_count": 17,
   "id": "2c9fa2a6",
   "metadata": {},
   "outputs": [
    {
     "data": {
      "text/plain": [
       "array(['E10', 'SP98'], dtype=object)"
      ]
     },
     "execution_count": 17,
     "metadata": {},
     "output_type": "execute_result"
    }
   ],
   "source": [
    "df1.gas_type.unique()"
   ]
  },
  {
   "cell_type": "code",
   "execution_count": 18,
   "id": "84b72e8c",
   "metadata": {},
   "outputs": [],
   "source": [
    "df1.gas_type.replace(['E10', 'SP98'], \n",
    "                [1, 2], inplace=True)"
   ]
  },
  {
   "cell_type": "code",
   "execution_count": 19,
   "id": "696c018e",
   "metadata": {},
   "outputs": [
    {
     "data": {
      "text/plain": [
       "array([0, 1], dtype=int64)"
      ]
     },
     "execution_count": 19,
     "metadata": {},
     "output_type": "execute_result"
    }
   ],
   "source": [
    "df1.AC.unique()"
   ]
  },
  {
   "cell_type": "code",
   "execution_count": 20,
   "id": "d7842409",
   "metadata": {},
   "outputs": [
    {
     "data": {
      "text/plain": [
       "array([0, 1], dtype=int64)"
      ]
     },
     "execution_count": 20,
     "metadata": {},
     "output_type": "execute_result"
    }
   ],
   "source": [
    "df1.rain.unique()"
   ]
  },
  {
   "cell_type": "code",
   "execution_count": 21,
   "id": "2adaa92c",
   "metadata": {},
   "outputs": [
    {
     "data": {
      "text/plain": [
       "array([0, 1], dtype=int64)"
      ]
     },
     "execution_count": 21,
     "metadata": {},
     "output_type": "execute_result"
    }
   ],
   "source": [
    "df1.sun.unique()"
   ]
  },
  {
   "cell_type": "code",
   "execution_count": 22,
   "id": "79a463b0",
   "metadata": {},
   "outputs": [
    {
     "data": {
      "text/plain": [
       "array(['45', nan, '37,6', '37,7', '38', '38,3', '39', '41', '37', '37,2'],\n",
       "      dtype=object)"
      ]
     },
     "execution_count": 22,
     "metadata": {},
     "output_type": "execute_result"
    }
   ],
   "source": [
    "df1['refill liters'].unique()"
   ]
  },
  {
   "cell_type": "code",
   "execution_count": 23,
   "id": "4bd687e3",
   "metadata": {},
   "outputs": [],
   "source": [
    "df1 = df1.drop('refill liters', axis=1)"
   ]
  },
  {
   "cell_type": "code",
   "execution_count": 24,
   "id": "9484354e",
   "metadata": {},
   "outputs": [
    {
     "data": {
      "text/plain": [
       "array(['E10', nan, 'SP98'], dtype=object)"
      ]
     },
     "execution_count": 24,
     "metadata": {},
     "output_type": "execute_result"
    }
   ],
   "source": [
    "df1['refill gas'].unique()"
   ]
  },
  {
   "cell_type": "code",
   "execution_count": 25,
   "id": "6d17737c",
   "metadata": {},
   "outputs": [],
   "source": [
    "df1 = df1.drop('refill gas', axis=1)"
   ]
  },
  {
   "cell_type": "code",
   "execution_count": 26,
   "id": "36a174c5",
   "metadata": {},
   "outputs": [
    {
     "data": {
      "text/html": [
       "<div>\n",
       "<style scoped>\n",
       "    .dataframe tbody tr th:only-of-type {\n",
       "        vertical-align: middle;\n",
       "    }\n",
       "\n",
       "    .dataframe tbody tr th {\n",
       "        vertical-align: top;\n",
       "    }\n",
       "\n",
       "    .dataframe thead th {\n",
       "        text-align: right;\n",
       "    }\n",
       "</style>\n",
       "<table border=\"1\" class=\"dataframe\">\n",
       "  <thead>\n",
       "    <tr style=\"text-align: right;\">\n",
       "      <th></th>\n",
       "      <th>count</th>\n",
       "      <th>mean</th>\n",
       "      <th>std</th>\n",
       "      <th>min</th>\n",
       "      <th>25%</th>\n",
       "      <th>50%</th>\n",
       "      <th>75%</th>\n",
       "      <th>max</th>\n",
       "    </tr>\n",
       "  </thead>\n",
       "  <tbody>\n",
       "    <tr>\n",
       "      <th>distance</th>\n",
       "      <td>385.0</td>\n",
       "      <td>19.323636</td>\n",
       "      <td>22.012549</td>\n",
       "      <td>1.3</td>\n",
       "      <td>11.8</td>\n",
       "      <td>14.5</td>\n",
       "      <td>19.0</td>\n",
       "      <td>216.1</td>\n",
       "    </tr>\n",
       "    <tr>\n",
       "      <th>consume</th>\n",
       "      <td>385.0</td>\n",
       "      <td>4.908052</td>\n",
       "      <td>1.030985</td>\n",
       "      <td>3.3</td>\n",
       "      <td>4.3</td>\n",
       "      <td>4.7</td>\n",
       "      <td>5.3</td>\n",
       "      <td>12.2</td>\n",
       "    </tr>\n",
       "    <tr>\n",
       "      <th>speed</th>\n",
       "      <td>385.0</td>\n",
       "      <td>41.854545</td>\n",
       "      <td>13.616574</td>\n",
       "      <td>14.0</td>\n",
       "      <td>32.0</td>\n",
       "      <td>40.0</td>\n",
       "      <td>50.0</td>\n",
       "      <td>90.0</td>\n",
       "    </tr>\n",
       "    <tr>\n",
       "      <th>temp_inside</th>\n",
       "      <td>385.0</td>\n",
       "      <td>21.909091</td>\n",
       "      <td>0.995194</td>\n",
       "      <td>19.0</td>\n",
       "      <td>21.5</td>\n",
       "      <td>22.0</td>\n",
       "      <td>22.0</td>\n",
       "      <td>25.5</td>\n",
       "    </tr>\n",
       "    <tr>\n",
       "      <th>temp_outside</th>\n",
       "      <td>385.0</td>\n",
       "      <td>11.368831</td>\n",
       "      <td>6.976453</td>\n",
       "      <td>-5.0</td>\n",
       "      <td>7.0</td>\n",
       "      <td>10.0</td>\n",
       "      <td>16.0</td>\n",
       "      <td>31.0</td>\n",
       "    </tr>\n",
       "    <tr>\n",
       "      <th>snow</th>\n",
       "      <td>385.0</td>\n",
       "      <td>0.007792</td>\n",
       "      <td>0.088043</td>\n",
       "      <td>0.0</td>\n",
       "      <td>0.0</td>\n",
       "      <td>0.0</td>\n",
       "      <td>0.0</td>\n",
       "      <td>1.0</td>\n",
       "    </tr>\n",
       "    <tr>\n",
       "      <th>gas_type</th>\n",
       "      <td>385.0</td>\n",
       "      <td>1.589610</td>\n",
       "      <td>0.492545</td>\n",
       "      <td>1.0</td>\n",
       "      <td>1.0</td>\n",
       "      <td>2.0</td>\n",
       "      <td>2.0</td>\n",
       "      <td>2.0</td>\n",
       "    </tr>\n",
       "    <tr>\n",
       "      <th>AC</th>\n",
       "      <td>385.0</td>\n",
       "      <td>0.075325</td>\n",
       "      <td>0.264258</td>\n",
       "      <td>0.0</td>\n",
       "      <td>0.0</td>\n",
       "      <td>0.0</td>\n",
       "      <td>0.0</td>\n",
       "      <td>1.0</td>\n",
       "    </tr>\n",
       "    <tr>\n",
       "      <th>rain</th>\n",
       "      <td>385.0</td>\n",
       "      <td>0.119481</td>\n",
       "      <td>0.324775</td>\n",
       "      <td>0.0</td>\n",
       "      <td>0.0</td>\n",
       "      <td>0.0</td>\n",
       "      <td>0.0</td>\n",
       "      <td>1.0</td>\n",
       "    </tr>\n",
       "    <tr>\n",
       "      <th>sun</th>\n",
       "      <td>385.0</td>\n",
       "      <td>0.083117</td>\n",
       "      <td>0.276418</td>\n",
       "      <td>0.0</td>\n",
       "      <td>0.0</td>\n",
       "      <td>0.0</td>\n",
       "      <td>0.0</td>\n",
       "      <td>1.0</td>\n",
       "    </tr>\n",
       "  </tbody>\n",
       "</table>\n",
       "</div>"
      ],
      "text/plain": [
       "              count       mean        std   min   25%   50%   75%    max\n",
       "distance      385.0  19.323636  22.012549   1.3  11.8  14.5  19.0  216.1\n",
       "consume       385.0   4.908052   1.030985   3.3   4.3   4.7   5.3   12.2\n",
       "speed         385.0  41.854545  13.616574  14.0  32.0  40.0  50.0   90.0\n",
       "temp_inside   385.0  21.909091   0.995194  19.0  21.5  22.0  22.0   25.5\n",
       "temp_outside  385.0  11.368831   6.976453  -5.0   7.0  10.0  16.0   31.0\n",
       "snow          385.0   0.007792   0.088043   0.0   0.0   0.0   0.0    1.0\n",
       "gas_type      385.0   1.589610   0.492545   1.0   1.0   2.0   2.0    2.0\n",
       "AC            385.0   0.075325   0.264258   0.0   0.0   0.0   0.0    1.0\n",
       "rain          385.0   0.119481   0.324775   0.0   0.0   0.0   0.0    1.0\n",
       "sun           385.0   0.083117   0.276418   0.0   0.0   0.0   0.0    1.0"
      ]
     },
     "execution_count": 26,
     "metadata": {},
     "output_type": "execute_result"
    }
   ],
   "source": [
    "df1.describe().T"
   ]
  },
  {
   "cell_type": "code",
   "execution_count": 27,
   "id": "ad1df640",
   "metadata": {},
   "outputs": [
    {
     "name": "stdout",
     "output_type": "stream",
     "text": [
      "<class 'pandas.core.frame.DataFrame'>\n",
      "Int64Index: 385 entries, 0 to 387\n",
      "Data columns (total 10 columns):\n",
      " #   Column        Non-Null Count  Dtype  \n",
      "---  ------        --------------  -----  \n",
      " 0   distance      385 non-null    float64\n",
      " 1   consume       385 non-null    float64\n",
      " 2   speed         385 non-null    int64  \n",
      " 3   temp_inside   385 non-null    float64\n",
      " 4   temp_outside  385 non-null    int64  \n",
      " 5   snow          385 non-null    int64  \n",
      " 6   gas_type      385 non-null    int64  \n",
      " 7   AC            385 non-null    int64  \n",
      " 8   rain          385 non-null    int64  \n",
      " 9   sun           385 non-null    int64  \n",
      "dtypes: float64(3), int64(7)\n",
      "memory usage: 33.1 KB\n"
     ]
    }
   ],
   "source": [
    "df1.info()"
   ]
  },
  {
   "cell_type": "code",
   "execution_count": 28,
   "id": "c62d7c4d",
   "metadata": {},
   "outputs": [
    {
     "data": {
      "image/png": "[encoded data removed]",
      "text/plain": [
       "<Figure size 1080x720 with 2 Axes>"
      ]
     },
     "metadata": {
      "needs_background": "light"
     },
     "output_type": "display_data"
    }
   ],
   "source": [
    "plt.figure(figsize=(15, 10))\n",
    "\n",
    "sns.set(style='white')\n",
    "\n",
    "mask=np.triu(np.ones_like(df1.corr(), dtype=bool))\n",
    "\n",
    "cmap=sns.diverging_palette(0, 10, as_cmap=True)\n",
    "\n",
    "\n",
    "sns.heatmap(df1.corr(),\n",
    "           mask=mask,\n",
    "            annot=True,\n",
    "          cmap=cmap,\n",
    "          center=0,\n",
    "          square=True,\n",
    "          linewidths=0.5,\n",
    "          cbar_kws={'shrink': 0.5});"
   ]
  },
  {
   "cell_type": "code",
   "execution_count": 29,
   "id": "f14edd5f",
   "metadata": {},
   "outputs": [],
   "source": [
    "df1.to_excel('data/cleaned_data.xlsx', index=False)"
   ]
  },
  {
   "cell_type": "code",
   "execution_count": 30,
   "id": "ec4e25a0",
   "metadata": {},
   "outputs": [],
   "source": [
    "df1.gas_type.replace([1, 2], ['E10', 'SP98'], \n",
    "                inplace=True)"
   ]
  },
  {
   "cell_type": "code",
   "execution_count": 31,
   "id": "e63aaed1",
   "metadata": {},
   "outputs": [
    {
     "data": {
      "text/html": [
       "<div>\n",
       "<style scoped>\n",
       "    .dataframe tbody tr th:only-of-type {\n",
       "        vertical-align: middle;\n",
       "    }\n",
       "\n",
       "    .dataframe tbody tr th {\n",
       "        vertical-align: top;\n",
       "    }\n",
       "\n",
       "    .dataframe thead th {\n",
       "        text-align: right;\n",
       "    }\n",
       "</style>\n",
       "<table border=\"1\" class=\"dataframe\">\n",
       "  <thead>\n",
       "    <tr style=\"text-align: right;\">\n",
       "      <th></th>\n",
       "      <th>distance</th>\n",
       "      <th>consume</th>\n",
       "      <th>speed</th>\n",
       "      <th>temp_inside</th>\n",
       "      <th>temp_outside</th>\n",
       "      <th>snow</th>\n",
       "      <th>gas_type</th>\n",
       "      <th>AC</th>\n",
       "      <th>rain</th>\n",
       "      <th>sun</th>\n",
       "      <th>kpl</th>\n",
       "    </tr>\n",
       "  </thead>\n",
       "  <tbody>\n",
       "    <tr>\n",
       "      <th>0</th>\n",
       "      <td>28.0</td>\n",
       "      <td>5.0</td>\n",
       "      <td>26</td>\n",
       "      <td>21.5</td>\n",
       "      <td>12</td>\n",
       "      <td>0</td>\n",
       "      <td>E10</td>\n",
       "      <td>0</td>\n",
       "      <td>0</td>\n",
       "      <td>0</td>\n",
       "      <td>5.6</td>\n",
       "    </tr>\n",
       "    <tr>\n",
       "      <th>1</th>\n",
       "      <td>12.0</td>\n",
       "      <td>4.2</td>\n",
       "      <td>30</td>\n",
       "      <td>21.5</td>\n",
       "      <td>13</td>\n",
       "      <td>0</td>\n",
       "      <td>E10</td>\n",
       "      <td>0</td>\n",
       "      <td>0</td>\n",
       "      <td>0</td>\n",
       "      <td>2.9</td>\n",
       "    </tr>\n",
       "    <tr>\n",
       "      <th>2</th>\n",
       "      <td>11.2</td>\n",
       "      <td>5.5</td>\n",
       "      <td>38</td>\n",
       "      <td>21.5</td>\n",
       "      <td>15</td>\n",
       "      <td>0</td>\n",
       "      <td>E10</td>\n",
       "      <td>0</td>\n",
       "      <td>0</td>\n",
       "      <td>0</td>\n",
       "      <td>2.0</td>\n",
       "    </tr>\n",
       "    <tr>\n",
       "      <th>3</th>\n",
       "      <td>12.9</td>\n",
       "      <td>3.9</td>\n",
       "      <td>36</td>\n",
       "      <td>21.5</td>\n",
       "      <td>14</td>\n",
       "      <td>0</td>\n",
       "      <td>E10</td>\n",
       "      <td>0</td>\n",
       "      <td>0</td>\n",
       "      <td>0</td>\n",
       "      <td>3.3</td>\n",
       "    </tr>\n",
       "    <tr>\n",
       "      <th>4</th>\n",
       "      <td>18.5</td>\n",
       "      <td>4.5</td>\n",
       "      <td>46</td>\n",
       "      <td>21.5</td>\n",
       "      <td>15</td>\n",
       "      <td>0</td>\n",
       "      <td>E10</td>\n",
       "      <td>0</td>\n",
       "      <td>0</td>\n",
       "      <td>0</td>\n",
       "      <td>4.1</td>\n",
       "    </tr>\n",
       "  </tbody>\n",
       "</table>\n",
       "</div>"
      ],
      "text/plain": [
       "   distance  consume  speed  temp_inside  temp_outside  snow gas_type  AC  \\\n",
       "0      28.0      5.0     26         21.5            12     0      E10   0   \n",
       "1      12.0      4.2     30         21.5            13     0      E10   0   \n",
       "2      11.2      5.5     38         21.5            15     0      E10   0   \n",
       "3      12.9      3.9     36         21.5            14     0      E10   0   \n",
       "4      18.5      4.5     46         21.5            15     0      E10   0   \n",
       "\n",
       "   rain  sun  kpl  \n",
       "0     0    0  5.6  \n",
       "1     0    0  2.9  \n",
       "2     0    0  2.0  \n",
       "3     0    0  3.3  \n",
       "4     0    0  4.1  "
      ]
     },
     "execution_count": 31,
     "metadata": {},
     "output_type": "execute_result"
    }
   ],
   "source": [
    "df1['kpl'] = round(df1['distance']/df1['consume'], 1)\n",
    "df1.head()"
   ]
  },
  {
   "cell_type": "code",
   "execution_count": 32,
   "id": "fd9fd84e",
   "metadata": {},
   "outputs": [
    {
     "name": "stdout",
     "output_type": "stream",
     "text": [
      "E10 consumes an average of 4.34 kilometer per liter.\n",
      "SP98 consumes an average of 3.98 kilometer per liter.\n",
      "Average consumption difference is 0.35 kilometer per liter.\n",
      "\n",
      "E10 consumed an average of 4.92 liters.\n",
      "SP98 consumes an average of 4.9 liters.\n"
     ]
    }
   ],
   "source": [
    "print('E10 consumes an average of', round(df1[df1['gas_type'] == 'E10']['kpl'].mean(), 2), 'kilometer per liter.')\n",
    "print('SP98 consumes an average of', round(df1[df1['gas_type'] == 'SP98']['kpl'].mean(), 2), 'kilometer per liter.')\n",
    "print('Average consumption difference is', round(df1[df1['gas_type'] == 'E10']['kpl'].mean() - df1[df1['gas_type'] == 'SP98']['kpl'].mean(), 2), 'kilometer per liter.')\n",
    "print()\n",
    "print('E10 consumed an average of', round(df1[df1['gas_type'] == 'E10']['consume'].mean(), 2), 'liters.')\n",
    "print('SP98 consumes an average of', round(df1[df1['gas_type'] == 'SP98']['consume'].mean(), 2), 'liters.')"
   ]
  },
  {
   "cell_type": "markdown",
   "id": "07e61707",
   "metadata": {},
   "source": [
    "### Conclusion"
   ]
  },
  {
   "cell_type": "markdown",
   "id": "7bbd5da7",
   "metadata": {},
   "source": [
    "Both gas types are similar. This rejects the null hypothesis that one would be better than the other.\n",
    "Gas type does not have correlation with our Y, the consumtion."
   ]
  }
 ],
 "metadata": {
  "kernelspec": {
   "display_name": "Python 3 (ipykernel)",
   "language": "python",
   "name": "python3"
  },
  "language_info": {
   "codemirror_mode": {
    "name": "ipython",
    "version": 3
   },
   "file_extension": ".py",
   "mimetype": "text/x-python",
   "name": "python",
   "nbconvert_exporter": "python",
   "pygments_lexer": "ipython3",
   "version": "3.9.7"
  }
 },
 "nbformat": 4,
 "nbformat_minor": 5
}
